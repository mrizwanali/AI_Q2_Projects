{
 "cells": [
  {
   "cell_type": "markdown",
   "metadata": {},
   "source": [
    "# Numpy_Assignment_2::"
   ]
  },
  {
   "cell_type": "markdown",
   "metadata": {},
   "source": [
    "## Question:1"
   ]
  },
  {
   "cell_type": "markdown",
   "metadata": {},
   "source": [
    "### Convert a 1D array to a 2D array with 2 rows?"
   ]
  },
  {
   "cell_type": "markdown",
   "metadata": {},
   "source": [
    "#### Desired output::"
   ]
  },
  {
   "cell_type": "markdown",
   "metadata": {},
   "source": [
    "array([[0, 1, 2, 3, 4],\n",
    "        [5, 6, 7, 8, 9]])"
   ]
  },
  {
   "cell_type": "code",
   "execution_count": 7,
   "metadata": {},
   "outputs": [],
   "source": [
    "import numpy as np"
   ]
  },
  {
   "cell_type": "code",
   "execution_count": 8,
   "metadata": {},
   "outputs": [
    {
     "data": {
      "text/plain": [
       "array([[0, 1, 2, 3, 4],\n",
       "       [5, 6, 7, 8, 9]])"
      ]
     },
     "execution_count": 8,
     "metadata": {},
     "output_type": "execute_result"
    }
   ],
   "source": [
    "a = np.arange(0, 10).reshape(2, 5)\n",
    "a"
   ]
  },
  {
   "cell_type": "markdown",
   "metadata": {},
   "source": [
    "## Question:2"
   ]
  },
  {
   "cell_type": "markdown",
   "metadata": {},
   "source": [
    "###  How to stack two arrays vertically?"
   ]
  },
  {
   "cell_type": "markdown",
   "metadata": {},
   "source": [
    "#### Desired Output::"
   ]
  },
  {
   "cell_type": "raw",
   "metadata": {},
   "source": [
    "array([[0, 1, 2, 3, 4],\n",
    "        [5, 6, 7, 8, 9],\n",
    "       [1, 1, 1, 1, 1],\n",
    "       [1, 1, 1, 1, 1]])"
   ]
  },
  {
   "cell_type": "code",
   "execution_count": 33,
   "metadata": {},
   "outputs": [
    {
     "data": {
      "text/plain": [
       "array([[0, 1, 2, 3, 4],\n",
       "       [5, 6, 7, 8, 9],\n",
       "       [1, 1, 1, 1, 1],\n",
       "       [1, 1, 1, 1, 1]])"
      ]
     },
     "execution_count": 33,
     "metadata": {},
     "output_type": "execute_result"
    }
   ],
   "source": [
    "a = np.arange(0, 10).reshape(2, 5)\n",
    "b = np.ones(10).astype(np.int8).reshape(2, 5)\n",
    "c = np.vstack((a, b))\n",
    "c"
   ]
  },
  {
   "cell_type": "markdown",
   "metadata": {},
   "source": [
    "## Question:3"
   ]
  },
  {
   "cell_type": "markdown",
   "metadata": {},
   "source": [
    "### How to stack two arrays horizontally?"
   ]
  },
  {
   "cell_type": "markdown",
   "metadata": {},
   "source": [
    "#### Desired Output::"
   ]
  },
  {
   "cell_type": "raw",
   "metadata": {},
   "source": [
    "array([[0, 1, 2, 3, 4, 1, 1, 1, 1, 1],\n",
    "       [5, 6, 7, 8, 9, 1, 1, 1, 1, 1]])"
   ]
  },
  {
   "cell_type": "code",
   "execution_count": 34,
   "metadata": {},
   "outputs": [
    {
     "data": {
      "text/plain": [
       "array([[0, 1, 2, 3, 4, 1, 1, 1, 1, 1],\n",
       "       [5, 6, 7, 8, 9, 1, 1, 1, 1, 1]])"
      ]
     },
     "execution_count": 34,
     "metadata": {},
     "output_type": "execute_result"
    }
   ],
   "source": [
    "a = np.arange(0, 10).reshape(2, 5)\n",
    "b = np.ones(10).astype(np.int8).reshape(2, 5)\n",
    "c = np.hstack((a, b))\n",
    "c"
   ]
  },
  {
   "cell_type": "markdown",
   "metadata": {},
   "source": [
    "## Question:4"
   ]
  },
  {
   "cell_type": "markdown",
   "metadata": {},
   "source": [
    "### How to convert an array of arrays into a flat 1d array?"
   ]
  },
  {
   "cell_type": "markdown",
   "metadata": {},
   "source": [
    "#### Desired Output::"
   ]
  },
  {
   "cell_type": "raw",
   "metadata": {},
   "source": [
    "array([0, 1, 2, 3, 4, 5, 6, 7, 8, 9])"
   ]
  },
  {
   "cell_type": "code",
   "execution_count": 37,
   "metadata": {},
   "outputs": [
    {
     "data": {
      "text/plain": [
       "array([0, 1, 2, 3, 4, 5, 6, 7, 8, 9])"
      ]
     },
     "execution_count": 37,
     "metadata": {},
     "output_type": "execute_result"
    }
   ],
   "source": [
    "a = np.array([[0, 1, 2, 3, 4], [5, 6, 7, 8 ,9]])\n",
    "b = a.flatten()\n",
    "b\n"
   ]
  },
  {
   "cell_type": "markdown",
   "metadata": {},
   "source": [
    "## Question:5"
   ]
  },
  {
   "cell_type": "markdown",
   "metadata": {},
   "source": [
    "### How to Convert higher dimension into one dimension?"
   ]
  },
  {
   "cell_type": "markdown",
   "metadata": {},
   "source": [
    "#### Desired Output::"
   ]
  },
  {
   "cell_type": "raw",
   "metadata": {},
   "source": [
    "array([ 0, 1, 2, 3, 4, 5, 6, 7, 8, 9, 10, 11, 12, 13, 14])"
   ]
  },
  {
   "cell_type": "code",
   "execution_count": 41,
   "metadata": {},
   "outputs": [
    {
     "data": {
      "text/plain": [
       "array([ 0,  1,  2,  3,  4,  5,  6,  7,  8,  9, 10, 11, 12, 13, 14])"
      ]
     },
     "execution_count": 41,
     "metadata": {},
     "output_type": "execute_result"
    }
   ],
   "source": [
    "a = np.array([[0, 1, 2, 3, 4], [5, 6, 7, 8 ,9], [10, 11, 12, 13, 14]])\n",
    "b = a.ravel()\n",
    "b"
   ]
  },
  {
   "cell_type": "markdown",
   "metadata": {},
   "source": [
    "## Question:6"
   ]
  },
  {
   "cell_type": "markdown",
   "metadata": {},
   "source": [
    "### Convert one dimension to higher dimension?"
   ]
  },
  {
   "cell_type": "markdown",
   "metadata": {},
   "source": [
    "#### Desired Output::"
   ]
  },
  {
   "cell_type": "raw",
   "metadata": {},
   "source": [
    "array([[ 0, 1, 2],\n",
    "[ 3, 4, 5],\n",
    "[ 6, 7, 8],\n",
    "[ 9, 10, 11],\n",
    "[12, 13, 14]])"
   ]
  },
  {
   "cell_type": "code",
   "execution_count": 44,
   "metadata": {},
   "outputs": [
    {
     "data": {
      "text/plain": [
       "array([[ 0,  1,  2],\n",
       "       [ 3,  4,  5],\n",
       "       [ 6,  7,  8],\n",
       "       [ 9, 10, 11],\n",
       "       [12, 13, 14]])"
      ]
     },
     "execution_count": 44,
     "metadata": {},
     "output_type": "execute_result"
    }
   ],
   "source": [
    "a = np.arange(0, 15)\n",
    "b = a.reshape(5, 3)\n",
    "b"
   ]
  },
  {
   "cell_type": "markdown",
   "metadata": {},
   "source": [
    "## Question:7"
   ]
  },
  {
   "cell_type": "markdown",
   "metadata": {},
   "source": [
    "### Create 5x5 an array and find the square of an array?"
   ]
  },
  {
   "cell_type": "code",
   "execution_count": 54,
   "metadata": {},
   "outputs": [
    {
     "name": "stdout",
     "output_type": "stream",
     "text": [
      "[[0.99617589 0.53222294 0.68011597 0.37517518 0.60648977]\n",
      " [0.77583442 0.78340914 0.02563367 0.84417114 0.01535641]\n",
      " [0.88926586 0.01179341 0.6250033  0.17433486 0.13610698]\n",
      " [0.42090403 0.24348119 0.0449178  0.2727914  0.95328811]\n",
      " [0.66997334 0.76812003 0.41643855 0.33098005 0.66950529]]\n",
      "\n",
      "\n",
      " Square of Array is:  \n",
      "\n",
      " [[9.92366400e-01 2.83261257e-01 4.62557739e-01 1.40756417e-01\n",
      "  3.67829842e-01]\n",
      " [6.01919047e-01 6.13729877e-01 6.57085026e-04 7.12624920e-01\n",
      "  2.35819210e-04]\n",
      " [7.90793772e-01 1.39084420e-04 3.90629121e-01 3.03926427e-02\n",
      "  1.85251097e-02]\n",
      " [1.77160201e-01 5.92830906e-02 2.01760865e-03 7.44151471e-02\n",
      "  9.08758212e-01]\n",
      " [4.48864283e-01 5.90008386e-01 1.73421066e-01 1.09547795e-01\n",
      "  4.48237335e-01]]\n"
     ]
    }
   ],
   "source": [
    "a = np.random.random((5, 5))\n",
    "print(a)\n",
    "b = np.square(a)\n",
    "print(\"\\n\\n Square of Array is: \", \"\\n\\n\", b)"
   ]
  },
  {
   "cell_type": "markdown",
   "metadata": {},
   "source": [
    "## Question:8"
   ]
  },
  {
   "cell_type": "markdown",
   "metadata": {},
   "source": [
    "### Create 5x6 an array and find the mean?"
   ]
  },
  {
   "cell_type": "code",
   "execution_count": 55,
   "metadata": {},
   "outputs": [
    {
     "name": "stdout",
     "output_type": "stream",
     "text": [
      "[[0.91728371 0.12388416 0.74100098 0.6009182  0.25665133 0.45861038]\n",
      " [0.1114287  0.72037227 0.22643964 0.5284458  0.32665231 0.97962787]\n",
      " [0.51184219 0.21373015 0.92213573 0.21455058 0.21681476 0.18298332]\n",
      " [0.18913978 0.35719617 0.28156585 0.05689276 0.77344993 0.2981779 ]\n",
      " [0.14682788 0.22806353 0.83919927 0.01071413 0.77193056 0.86597672]]\n",
      "\n",
      "\n",
      " Mean of Array is:  0.43575021869494496\n"
     ]
    }
   ],
   "source": [
    "a = np.random.random((5, 6))\n",
    "print(a)\n",
    "b = np.mean(a)\n",
    "print(\"\\n\\n Mean of Array is: \", b)"
   ]
  },
  {
   "cell_type": "markdown",
   "metadata": {},
   "source": [
    "## Question:9"
   ]
  },
  {
   "cell_type": "markdown",
   "metadata": {},
   "source": [
    "### Find the standard deviation of the previous array in Q8?"
   ]
  },
  {
   "cell_type": "code",
   "execution_count": 56,
   "metadata": {},
   "outputs": [
    {
     "name": "stdout",
     "output_type": "stream",
     "text": [
      "[[0.13988907 0.94754819 0.6330475  0.48568654 0.36094588 0.2524641 ]\n",
      " [0.75554741 0.29813333 0.08811069 0.54956918 0.76051881 0.75228505]\n",
      " [0.92832167 0.52229681 0.35522228 0.55583308 0.51755712 0.7503229 ]\n",
      " [0.66565761 0.71614645 0.53724172 0.46319413 0.59175435 0.33818479]\n",
      " [0.34645196 0.9072304  0.48366338 0.31722239 0.10905624 0.13466465]]\n",
      "\n",
      "\n",
      " Standard Deviation of Array is:  0.23998366999748788\n"
     ]
    }
   ],
   "source": [
    "a = np.random.random((5, 6))\n",
    "print(a)\n",
    "b = np.std(a)\n",
    "print(\"\\n\\n Standard Deviation of Array is: \", b)"
   ]
  },
  {
   "cell_type": "markdown",
   "metadata": {},
   "source": [
    "## Question:10"
   ]
  },
  {
   "cell_type": "markdown",
   "metadata": {},
   "source": [
    "### Find the median of the previous array in Q8?"
   ]
  },
  {
   "cell_type": "code",
   "execution_count": 57,
   "metadata": {},
   "outputs": [
    {
     "name": "stdout",
     "output_type": "stream",
     "text": [
      "[[0.94726024 0.45767025 0.29814954 0.70991723 0.34075971 0.47235633]\n",
      " [0.53994613 0.45152059 0.7647852  0.44172524 0.32300843 0.6178877 ]\n",
      " [0.24588054 0.8497584  0.55111269 0.46073692 0.28312943 0.29289731]\n",
      " [0.91526737 0.56429567 0.81699209 0.59441325 0.63441913 0.33950297]\n",
      " [0.44370901 0.30083216 0.76013742 0.08710564 0.2455495  0.88605202]]\n",
      "\n",
      "\n",
      " Median of Array is:  0.4665466237247851\n"
     ]
    }
   ],
   "source": [
    "a = np.random.random((5, 6))\n",
    "print(a)\n",
    "b = np.median(a)\n",
    "print(\"\\n\\n Median of Array is: \", b)"
   ]
  },
  {
   "cell_type": "markdown",
   "metadata": {},
   "source": [
    "## Question:11"
   ]
  },
  {
   "cell_type": "markdown",
   "metadata": {},
   "source": [
    "### Find the transpose of the previous array in Q8?"
   ]
  },
  {
   "cell_type": "code",
   "execution_count": 61,
   "metadata": {},
   "outputs": [
    {
     "name": "stdout",
     "output_type": "stream",
     "text": [
      "[[0.00934772 0.45373626 0.5249114  0.45140394 0.7959183  0.96264189]\n",
      " [0.59161545 0.92587904 0.4226859  0.46061216 0.69799169 0.16582174]\n",
      " [0.04172646 0.48105454 0.65960034 0.89543223 0.00523861 0.53664552]\n",
      " [0.33395311 0.55300712 0.72637524 0.18314565 0.78214135 0.6997979 ]\n",
      " [0.13071698 0.28948293 0.78589415 0.36739894 0.08561363 0.02054757]]\n",
      "\n",
      "\n",
      " Transpose of Array is:  \n",
      "\n",
      " [[0.00934772 0.59161545 0.04172646 0.33395311 0.13071698]\n",
      " [0.45373626 0.92587904 0.48105454 0.55300712 0.28948293]\n",
      " [0.5249114  0.4226859  0.65960034 0.72637524 0.78589415]\n",
      " [0.45140394 0.46061216 0.89543223 0.18314565 0.36739894]\n",
      " [0.7959183  0.69799169 0.00523861 0.78214135 0.08561363]\n",
      " [0.96264189 0.16582174 0.53664552 0.6997979  0.02054757]]\n"
     ]
    }
   ],
   "source": [
    "a = np.random.random((5, 6))\n",
    "print(a)\n",
    "b = np.transpose(a)\n",
    "print(\"\\n\\n Transpose of Array is: \", \"\\n\\n\", b)"
   ]
  },
  {
   "cell_type": "markdown",
   "metadata": {},
   "source": [
    "## Question:12"
   ]
  },
  {
   "cell_type": "markdown",
   "metadata": {},
   "source": [
    "### Create a 4x4 an array and find the sum of diagonal elements?"
   ]
  },
  {
   "cell_type": "code",
   "execution_count": 60,
   "metadata": {},
   "outputs": [
    {
     "name": "stdout",
     "output_type": "stream",
     "text": [
      "[[0.68865185 0.49391836 0.02461879 0.27646113]\n",
      " [0.01329928 0.19999641 0.39481069 0.10461544]\n",
      " [0.13270735 0.90685338 0.25963981 0.17628298]\n",
      " [0.83545936 0.81168673 0.88348215 0.38487458]]\n",
      "\n",
      "\n",
      " Sum of Diagonal Elements is:  \n",
      "\n",
      " [0.68865185 0.19999641 0.25963981 0.38487458]\n"
     ]
    }
   ],
   "source": [
    "a = np.random.random((4, 4))\n",
    "print(a)\n",
    "b = np.diagonal(a)\n",
    "print(\"\\n\\n Sum of Diagonal Elements is: \", \"\\n\\n\", b)"
   ]
  },
  {
   "cell_type": "markdown",
   "metadata": {},
   "source": [
    "## Question:13"
   ]
  },
  {
   "cell_type": "markdown",
   "metadata": {},
   "source": [
    "### Find the determinant of the previous array in Q12?"
   ]
  },
  {
   "cell_type": "code",
   "execution_count": 66,
   "metadata": {},
   "outputs": [
    {
     "name": "stdout",
     "output_type": "stream",
     "text": [
      "[[0.31857474 0.28223371 0.37783372 0.5196898 ]\n",
      " [0.87869149 0.31958675 0.60959912 0.50626064]\n",
      " [0.10326372 0.41864141 0.69830386 0.95395328]\n",
      " [0.48167295 0.79115526 0.22965503 0.33144334]]\n",
      "\n",
      "\n",
      " Determinent of Array is:  \n",
      "\n",
      " 0.0340823789435149\n"
     ]
    }
   ],
   "source": [
    "a = np.random.random((4, 4))\n",
    "print(a)\n",
    "b = np.linalg.det(a)\n",
    "print(\"\\n\\n Determinent of Array is: \", \"\\n\\n\", b)"
   ]
  },
  {
   "cell_type": "markdown",
   "metadata": {},
   "source": [
    "## Question:14"
   ]
  },
  {
   "cell_type": "markdown",
   "metadata": {},
   "source": [
    "### Find the 5th and 95th percentile of an array?"
   ]
  },
  {
   "cell_type": "code",
   "execution_count": 71,
   "metadata": {},
   "outputs": [
    {
     "name": "stdout",
     "output_type": "stream",
     "text": [
      "[ 3  4  5  6  7  8  9 10 11 12 13 14 15 16 17 18 19]\n",
      "\n",
      "\n",
      " 5th Percentile of Array is:  \n",
      "\n",
      " 3.8\n",
      "\n",
      "\n",
      " 95th Percentile of Array is:  \n",
      "\n",
      " 18.2\n"
     ]
    }
   ],
   "source": [
    "a = np.arange(3, 20)\n",
    "print(a)\n",
    "b = np.percentile(a, 5)\n",
    "print(\"\\n\\n 5th Percentile of Array is: \", \"\\n\\n\", b)\n",
    "c = np.percentile(a, 95)\n",
    "print(\"\\n\\n 95th Percentile of Array is: \", \"\\n\\n\", c)"
   ]
  },
  {
   "cell_type": "markdown",
   "metadata": {},
   "source": [
    "## Question:15"
   ]
  },
  {
   "cell_type": "markdown",
   "metadata": {},
   "source": [
    "### How to find if a given array has any null values?"
   ]
  },
  {
   "cell_type": "code",
   "execution_count": 77,
   "metadata": {},
   "outputs": [
    {
     "name": "stdout",
     "output_type": "stream",
     "text": [
      "[[ 0  1  2  3]\n",
      " [ 4  5  6  7]\n",
      " [ 8  9 10 11]\n",
      " [12 13 14 15]\n",
      " [16 17 18 19]]\n",
      "\n",
      "\n",
      " Looking for Null Values: \n",
      "\n",
      " [[False False False False]\n",
      " [False False False False]\n",
      " [False False False False]\n",
      " [False False False False]\n",
      " [False False False False]]\n",
      "\n",
      "\n",
      " [[ 0  1  2]\n",
      " [ 3  4  5]\n",
      " [ 6  7  8]\n",
      " [ 9 10 11]\n",
      " [12 13 14]]\n",
      "\n",
      "\n",
      " Looking for Null Values: \n",
      "\n",
      " [[False False False]\n",
      " [False False False]\n",
      " [False False False]\n",
      " [False False False]\n",
      " [False False False]]\n"
     ]
    }
   ],
   "source": [
    "a = np.arange(0, 20).reshape(5, 4)\n",
    "print(a)\n",
    "print(\"\\n\\n Looking for Null Values: \\n\\n\", np.isnan(a))\n",
    "\n",
    "b = np.arange(15).reshape(5, 3)\n",
    "print(\"\\n\\n\", b)\n",
    "print(\"\\n\\n Looking for Null Values: \\n\\n\", np.isnan(b))"
   ]
  }
 ],
 "metadata": {
  "kernelspec": {
   "display_name": "Python 3",
   "language": "python",
   "name": "python3"
  },
  "language_info": {
   "codemirror_mode": {
    "name": "ipython",
    "version": 3
   },
   "file_extension": ".py",
   "mimetype": "text/x-python",
   "name": "python",
   "nbconvert_exporter": "python",
   "pygments_lexer": "ipython3",
   "version": "3.7.4"
  }
 },
 "nbformat": 4,
 "nbformat_minor": 2
}
